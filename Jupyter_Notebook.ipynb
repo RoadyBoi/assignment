{
 "cells": [
  {
   "cell_type": "markdown",
   "metadata": {},
   "source": [
    "<H1>NOTEBOOK<H1>"
   ]
  },
  {
   "cell_type": "markdown",
   "metadata": {
    "tags": []
   },
   "source": [
    "<p> My introduction: Computer Sciences student who is interested in Data Sciences these days</p>\n",
    "<br>"
   ]
  },
  {
   "cell_type": "markdown",
   "metadata": {},
   "source": [
    " <h4>List of Data Science Languages</h4>\n",
    "        <ol>\n",
    "            <li>R</li>\n",
    "            <li>SQL</li>\n",
    "            <li>Java</li>\n",
    "            <li>Julia</li>\n",
    "            <li>etc.</li>\n",
    "        </ol>\n",
    "        <br>"
   ]
  },
  {
   "cell_type": "markdown",
   "metadata": {
    "tags": []
   },
   "source": [
    "<h4>List of Data Science Libraries</h4>\n",
    "        <ul>\n",
    "            <li>TensorFlow</li>\n",
    "            <li>SciPy</li>\n",
    "            <li>NumPy</li>\n",
    "            <li>Pandas</li>\n",
    "            <li>MatPlotlib</li>\n",
    "            <li>etc.</li>\n",
    "\n",
    "    "
   ]
  },
  {
   "cell_type": "markdown",
   "metadata": {},
   "source": [
    "<br>\n",
    "<h4> Table of Data Science tools </h4>\n",
    "\n",
    "  <table border=\"1px\">\n",
    "            <tr>\n",
    "                <td><h4>Data Science tools</h4></td>\n",
    "            </tr>\n",
    "            <tr>\n",
    "                <td>Python</td>\n",
    "            </tr>\n",
    "            <tr>\n",
    "                <td>SQL</td>\n",
    "            </tr>\n",
    "            <tr>\n",
    "                <td>Jupyter</td>\n",
    "            </tr>\n",
    "            <tr>\n",
    "                <td>etc.</td>\n",
    "            </tr>\n",
    "        </table>\n",
    "        <br>"
   ]
  },
  {
   "cell_type": "markdown",
   "metadata": {
    "tags": []
   },
   "source": [
    "<h4>Markdown cell introducting arithmetic expression</h4>"
   ]
  },
  {
   "cell_type": "code",
   "execution_count": 7,
   "metadata": {
    "tags": []
   },
   "outputs": [
    {
     "data": {
      "text/plain": [
       "10"
      ]
     },
     "execution_count": 7,
     "metadata": {},
     "output_type": "execute_result"
    }
   ],
   "source": [
    "code = compile(\"3 + 7\", \"<string>\", \"eval\")\n",
    "eval(code)\n"
   ]
  },
  {
   "cell_type": "markdown",
   "metadata": {},
   "source": [
    "<br>\n",
    "<h4>Code cell to multiply and add numbers</h4>"
   ]
  },
  {
   "cell_type": "code",
   "execution_count": 8,
   "metadata": {
    "tags": []
   },
   "outputs": [
    {
     "data": {
      "text/plain": [
       "22"
      ]
     },
     "execution_count": 8,
     "metadata": {},
     "output_type": "execute_result"
    }
   ],
   "source": [
    "(8*2)+6\n"
   ]
  },
  {
   "cell_type": "markdown",
   "metadata": {
    "tags": []
   },
   "source": [
    "<br>\n",
    "<h4>Code cell to convert minutes to hours</h4>"
   ]
  },
  {
   "cell_type": "code",
   "execution_count": 14,
   "metadata": {
    "tags": []
   },
   "outputs": [
    {
     "name": "stdout",
     "output_type": "stream",
     "text": [
      "6.666666666666667 hours\n"
     ]
    }
   ],
   "source": [
    "days = 0\n",
    "hours = 0\n",
    "mins = 0\n",
    "\n",
    "total_minutes = 400\n",
    "\n",
    "calculated_minutes = total_minutes % 1440\n",
    "hours = calculated_minutes / 60\n",
    "print(str(hours) + \" hours\")"
   ]
  },
  {
   "cell_type": "markdown",
   "metadata": {},
   "source": [
    "<br>\n",
    "<h4>Markdown cell to list Objectives</h4>"
   ]
  },
  {
   "cell_type": "markdown",
   "metadata": {},
   "source": [
    "<p>Create a new markdown cell underneath the introduction cell from Exercise 3 to identify the goals this notebook covers (i.e., some of the main lessons learned from the course). Start this new cell's introduction with the words \"Objectives\" in bold. Then, list 3 to 5 topics addressed in this notebook using an unordered list (bullets), such as \"List popular languages for Data Science.\"\n",
    "</p>"
   ]
  },
  {
   "cell_type": "markdown",
   "metadata": {
    "tags": []
   },
   "source": [
    "<br>\n",
    "<h4>Markdown cell to indicate the Author’s name</h4>"
   ]
  },
  {
   "cell_type": "markdown",
   "metadata": {},
   "source": [
    "<h4>Author</h4> <p>Roaid Mustafa</p>"
   ]
  }
 ],
 "metadata": {
  "kernelspec": {
   "display_name": "Python",
   "language": "python",
   "name": "conda-env-python-py"
  },
  "language_info": {
   "codemirror_mode": {
    "name": "ipython",
    "version": 3
   },
   "file_extension": ".py",
   "mimetype": "text/x-python",
   "name": "python",
   "nbconvert_exporter": "python",
   "pygments_lexer": "ipython3",
   "version": "3.7.12"
  }
 },
 "nbformat": 4,
 "nbformat_minor": 4
}
